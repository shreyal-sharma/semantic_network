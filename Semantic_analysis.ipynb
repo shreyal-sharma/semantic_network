{
 "cells": [
  {
   "cell_type": "markdown",
   "id": "24d82f99-b0b5-4979-8552-8b86be94da2a",
   "metadata": {},
   "source": [
    "# Semantic Network Analysis"
   ]
  },
  {
   "cell_type": "markdown",
   "id": "b69f40ea-3d68-403d-86ac-8ccd143f72f6",
   "metadata": {},
   "source": [
    "**Step 1: Data Loading and Preprocessing**\n",
    "Load the Excel files using **pandas** and merge them into a single DataFrame. "
   ]
  },
  {
   "cell_type": "markdown",
   "id": "dd223148-c9b8-4027-a745-1860db0613e7",
   "metadata": {},
   "source": [
    "**Step 2: Text Processing and Concept Extraction**\n",
    "Using **NLP** techniques we can extract key concepts from the transcripts. \n",
    "\n",
    "**NLP Techniques**\n",
    "    - Tokenization, Part-of-Speech (POS) tagging to filter nouns, adjectives, and verbs.\n",
    "    - Use Named Entity Recognition (NER) to identify key entities like locations, organizations, etc.\n",
    "    - Extract bigrams and trigrams to capture relevant phrases."
   ]
  },
  {
   "cell_type": "markdown",
   "id": "989dc329-cb22-4911-b403-60670ad8c2a5",
   "metadata": {},
   "source": [
    "**Step 3: Building the Semantic Network**\n",
    "\n",
    "Use **networkx** to create a semantic network graph to show how words, phrases, or concepts are interconnected based on their meanings or semantic relationships.\n",
    "    - Nodes represent extracted concepts.\n",
    "    - Edges represent co-occurrence relationships between concepts within the same transcript.\n",
    "The weights of the edges can be determined by the frequency of co-occurrence."
   ]
  },
  {
   "cell_type": "markdown",
   "id": "d2ac3083-1f91-46a3-8cf1-512ea5628f5e",
   "metadata": {},
   "source": [
    "**Step 4: Visualizing the Semantic Network**\n",
    "For visualizing the network, we can use tools like **matplotlib**, **pyvis**, or **Plotly** for interactive graphs."
   ]
  },
  {
   "cell_type": "code",
   "execution_count": 43,
   "id": "f6c23ced-a799-470c-97b6-b55743157504",
   "metadata": {
    "scrolled": true
   },
   "outputs": [
    {
     "name": "stdout",
     "output_type": "stream",
     "text": [
      "Defaulting to user installation because normal site-packages is not writeable\n",
      "Requirement already satisfied: pyvis in c:\\users\\shrey\\appdata\\local\\packages\\pythonsoftwarefoundation.python.3.12_qbz5n2kfra8p0\\localcache\\local-packages\\python312\\site-packages (0.3.2)\n",
      "Requirement already satisfied: ipython>=5.3.0 in c:\\users\\shrey\\appdata\\local\\packages\\pythonsoftwarefoundation.python.3.12_qbz5n2kfra8p0\\localcache\\local-packages\\python312\\site-packages (from pyvis) (8.26.0)\n",
      "Requirement already satisfied: jinja2>=2.9.6 in c:\\users\\shrey\\appdata\\local\\packages\\pythonsoftwarefoundation.python.3.12_qbz5n2kfra8p0\\localcache\\local-packages\\python312\\site-packages (from pyvis) (3.1.4)\n",
      "Requirement already satisfied: jsonpickle>=1.4.1 in c:\\users\\shrey\\appdata\\local\\packages\\pythonsoftwarefoundation.python.3.12_qbz5n2kfra8p0\\localcache\\local-packages\\python312\\site-packages (from pyvis) (4.0.0)\n",
      "Requirement already satisfied: networkx>=1.11 in c:\\users\\shrey\\appdata\\local\\packages\\pythonsoftwarefoundation.python.3.12_qbz5n2kfra8p0\\localcache\\local-packages\\python312\\site-packages (from pyvis) (3.3)\n",
      "Requirement already satisfied: decorator in c:\\users\\shrey\\appdata\\local\\packages\\pythonsoftwarefoundation.python.3.12_qbz5n2kfra8p0\\localcache\\local-packages\\python312\\site-packages (from ipython>=5.3.0->pyvis) (5.1.1)\n",
      "Requirement already satisfied: jedi>=0.16 in c:\\users\\shrey\\appdata\\local\\packages\\pythonsoftwarefoundation.python.3.12_qbz5n2kfra8p0\\localcache\\local-packages\\python312\\site-packages (from ipython>=5.3.0->pyvis) (0.19.1)\n",
      "Requirement already satisfied: matplotlib-inline in c:\\users\\shrey\\appdata\\local\\packages\\pythonsoftwarefoundation.python.3.12_qbz5n2kfra8p0\\localcache\\local-packages\\python312\\site-packages (from ipython>=5.3.0->pyvis) (0.1.7)\n",
      "Requirement already satisfied: prompt-toolkit<3.1.0,>=3.0.41 in c:\\users\\shrey\\appdata\\local\\packages\\pythonsoftwarefoundation.python.3.12_qbz5n2kfra8p0\\localcache\\local-packages\\python312\\site-packages (from ipython>=5.3.0->pyvis) (3.0.47)\n",
      "Requirement already satisfied: pygments>=2.4.0 in c:\\users\\shrey\\appdata\\local\\packages\\pythonsoftwarefoundation.python.3.12_qbz5n2kfra8p0\\localcache\\local-packages\\python312\\site-packages (from ipython>=5.3.0->pyvis) (2.18.0)\n",
      "Requirement already satisfied: stack-data in c:\\users\\shrey\\appdata\\local\\packages\\pythonsoftwarefoundation.python.3.12_qbz5n2kfra8p0\\localcache\\local-packages\\python312\\site-packages (from ipython>=5.3.0->pyvis) (0.6.3)\n",
      "Requirement already satisfied: traitlets>=5.13.0 in c:\\users\\shrey\\appdata\\local\\packages\\pythonsoftwarefoundation.python.3.12_qbz5n2kfra8p0\\localcache\\local-packages\\python312\\site-packages (from ipython>=5.3.0->pyvis) (5.14.3)\n",
      "Requirement already satisfied: colorama in c:\\users\\shrey\\appdata\\local\\packages\\pythonsoftwarefoundation.python.3.12_qbz5n2kfra8p0\\localcache\\local-packages\\python312\\site-packages (from ipython>=5.3.0->pyvis) (0.4.6)\n",
      "Requirement already satisfied: MarkupSafe>=2.0 in c:\\users\\shrey\\appdata\\local\\packages\\pythonsoftwarefoundation.python.3.12_qbz5n2kfra8p0\\localcache\\local-packages\\python312\\site-packages (from jinja2>=2.9.6->pyvis) (2.1.5)\n",
      "Requirement already satisfied: parso<0.9.0,>=0.8.3 in c:\\users\\shrey\\appdata\\local\\packages\\pythonsoftwarefoundation.python.3.12_qbz5n2kfra8p0\\localcache\\local-packages\\python312\\site-packages (from jedi>=0.16->ipython>=5.3.0->pyvis) (0.8.4)\n",
      "Requirement already satisfied: wcwidth in c:\\users\\shrey\\appdata\\local\\packages\\pythonsoftwarefoundation.python.3.12_qbz5n2kfra8p0\\localcache\\local-packages\\python312\\site-packages (from prompt-toolkit<3.1.0,>=3.0.41->ipython>=5.3.0->pyvis) (0.2.13)\n",
      "Requirement already satisfied: executing>=1.2.0 in c:\\users\\shrey\\appdata\\local\\packages\\pythonsoftwarefoundation.python.3.12_qbz5n2kfra8p0\\localcache\\local-packages\\python312\\site-packages (from stack-data->ipython>=5.3.0->pyvis) (2.0.1)\n",
      "Requirement already satisfied: asttokens>=2.1.0 in c:\\users\\shrey\\appdata\\local\\packages\\pythonsoftwarefoundation.python.3.12_qbz5n2kfra8p0\\localcache\\local-packages\\python312\\site-packages (from stack-data->ipython>=5.3.0->pyvis) (2.4.1)\n",
      "Requirement already satisfied: pure-eval in c:\\users\\shrey\\appdata\\local\\packages\\pythonsoftwarefoundation.python.3.12_qbz5n2kfra8p0\\localcache\\local-packages\\python312\\site-packages (from stack-data->ipython>=5.3.0->pyvis) (0.2.3)\n",
      "Requirement already satisfied: six>=1.12.0 in c:\\users\\shrey\\appdata\\local\\packages\\pythonsoftwarefoundation.python.3.12_qbz5n2kfra8p0\\localcache\\local-packages\\python312\\site-packages (from asttokens>=2.1.0->stack-data->ipython>=5.3.0->pyvis) (1.16.0)\n"
     ]
    }
   ],
   "source": [
    "!pip install pyvis --upgrade"
   ]
  },
  {
   "cell_type": "code",
   "execution_count": 44,
   "id": "06472390-fdb4-4e58-bf20-dd7cea6b043e",
   "metadata": {},
   "outputs": [
    {
     "name": "stdout",
     "output_type": "stream",
     "text": [
      "Warning: When  cdn_resources is 'local' jupyter notebook has issues displaying graphics on chrome/safari. Use cdn_resources='in_line' or cdn_resources='remote' if you have issues viewing graphics in a notebook.\n",
      "semantic_network.html\n"
     ]
    },
    {
     "data": {
      "text/html": [
       "\n",
       "        <iframe\n",
       "            width=\"100%\"\n",
       "            height=\"600px\"\n",
       "            src=\"semantic_network.html\"\n",
       "            frameborder=\"0\"\n",
       "            allowfullscreen\n",
       "            \n",
       "        ></iframe>\n",
       "        "
      ],
      "text/plain": [
       "<IPython.lib.display.IFrame at 0x1ec89078c50>"
      ]
     },
     "execution_count": 44,
     "metadata": {},
     "output_type": "execute_result"
    }
   ],
   "source": [
    "import spacy\n",
    "import pandas as pd\n",
    "import networkx as nx\n",
    "from itertools import combinations\n",
    "from pyvis.network import Network\n",
    "\n",
    "# Load spaCy model\n",
    "nlp = spacy.load(\"en_core_web_sm\")\n",
    "\n",
    "# Function to process text and extract key concepts (nouns and adjectives)\n",
    "def extract_concepts(text):\n",
    "    doc = nlp(text.lower())\n",
    "    return [token.lemma_ for token in doc if token.pos_ in ['NOUN', 'ADJ'] and not token.is_stop and token.dep_ not in ['aux', 'punct']]\n",
    "\n",
    "# Load data from your Excel file\n",
    "file_path = r\"C:\\Users\\Shrey\\Documents\\Research\\Dr. Sun Research\\NLP_and_Sentiment_Analysis_Tasks\\master-file.xlsx\"\n",
    "df = pd.read_excel(file_path)\n",
    "\n",
    "# Assuming that the 'transcript' column exists in the data, apply concept extraction\n",
    "df['concepts'] = df['transcript'].apply(extract_concepts)\n",
    "\n",
    "# Create an empty graph\n",
    "G = nx.Graph()\n",
    "\n",
    "# Build edges based on co-occurrence of concepts\n",
    "for concepts in df['concepts']:\n",
    "    for concept1, concept2 in combinations(concepts, 2):\n",
    "        if G.has_edge(concept1, concept2):\n",
    "            G[concept1][concept2]['weight'] += 1\n",
    "        else:\n",
    "            G.add_edge(concept1, concept2, weight=1)\n",
    "\n",
    "# List of words to remove\n",
    "words_to_remove = ['cause', 'thing', 'idea', 'bill', 'sure', 'true', 'lot', 'sense', 'post', 'overall', \n",
    "                   'little', 'silver', 'well', 'type', 'people', 'free', 'kid', 'old', 'pro', 'con', 'sorry', \n",
    "                   'prompt', 'time', 'sort', 'issue', 'long', 'term', 'confusing', 'different', 'problem', \n",
    "                   'general', 'great', 'board', 'component', 'helpful', 'way', 'room', 'upfront', 'good', 'slow', \n",
    "                   'reason', 'hair', 'big', 'pretty', 'right', 'easy', 'clear', 'response', 'correct', 'beca', \n",
    "                   'perfect', 'situation', 'et', 'cetera', 'roll', 'new', 'tap', 'pta', 'understanding', 'bad', \n",
    "                   'gouging', 'run', 'hard', 'crazy', 'previous', 'page', 'similar', 'motivated', 'doublespeak', \n",
    "                   'lunch', 'stuff', 'average', 'gentleman', 'group', 'feeling', 'order', 'extra', 'owner', \n",
    "                   'worried', 'increase', 'એવું', 'વગર', 'વર્કના', 'ડિસ્કસ', 'પણ', 'કરો', 'આમ', 'કે', 'હું', \n",
    "                   'કરે', 'તો', 'શું', 'તડલાઇન', 'jacqueline', 'ટેબલગેટું', 'છે', 'processમાં', 'clean', \n",
    "                   'number', 'detail', 'kind', 'offer', 'topic', 'w', 'waiting', 'comment', 'diving', 'welcome', \n",
    "                   'table', 'request', 'second', 'stage', 'slight', 'gap', 'bit', 'struggle', 'reflective', 'film', \n",
    "                   'crack', 'condo', 'tom', 'tv', 'sound', 'clip', 'winter', 'outside', 'tool', 'smart', 'lieu', \n",
    "                   'ujsc', 'white', 'interested', 'numerous', 'goal', 'mute', 'thought', 'subject', 'course', \n",
    "                   'question', 'wood', 'able', 'list', 'game', 'excellent', 'loud', 'possible', 'mic', 'speaker', \n",
    "                   'proper', 'channel', 'use', 'fact', 'guy', 'grid', 'r', 'dog', 'buck']\n",
    "\n",
    "# Filter out the words to remove from the graph's nodes\n",
    "filtered_nodes = [node for node in G.nodes() if node not in words_to_remove]\n",
    "\n",
    "# Create PyVis Network object\n",
    "net = Network(notebook=True)\n",
    "\n",
    "# Add nodes and edges to the PyVis network\n",
    "for node in filtered_nodes:\n",
    "    net.add_node(node)\n",
    "\n",
    "for concept1, concept2 in G.edges():\n",
    "    if concept1 in filtered_nodes and concept2 in filtered_nodes:\n",
    "        weight = G[concept1][concept2]['weight']\n",
    "        net.add_edge(concept1, concept2, weight=weight)\n",
    "\n",
    "# Set the physics layout\n",
    "net.force_atlas_2based()\n",
    "\n",
    "# Show the network\n",
    "net.show(\"semantic_network.html\")\n"
   ]
  },
  {
   "cell_type": "code",
   "execution_count": null,
   "id": "4e85a100-8794-436b-af39-b3e04d3bb06c",
   "metadata": {},
   "outputs": [],
   "source": []
  }
 ],
 "metadata": {
  "kernelspec": {
   "display_name": "Python 3 (ipykernel)",
   "language": "python",
   "name": "python3"
  },
  "language_info": {
   "codemirror_mode": {
    "name": "ipython",
    "version": 3
   },
   "file_extension": ".py",
   "mimetype": "text/x-python",
   "name": "python",
   "nbconvert_exporter": "python",
   "pygments_lexer": "ipython3",
   "version": "3.12.7"
  }
 },
 "nbformat": 4,
 "nbformat_minor": 5
}
